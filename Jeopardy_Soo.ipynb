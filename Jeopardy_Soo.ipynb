{
 "cells": [
  {
   "cell_type": "code",
   "execution_count": 113,
   "id": "4725a0e0",
   "metadata": {},
   "outputs": [
    {
     "name": "stdout",
     "output_type": "stream",
     "text": [
      "<class 'str'>\n",
      "<class 'pandas._libs.tslibs.timestamps.Timestamp'>\n",
      "   Show Number    Air Date      Round                         Category Value  \\\n",
      "0         4680  2004-12-31  Jeopardy!                          HISTORY  $200   \n",
      "1         4680  2004-12-31  Jeopardy!  ESPN's TOP 10 ALL-TIME ATHLETES  $200   \n",
      "2         4680  2004-12-31  Jeopardy!      EVERYBODY TALKS ABOUT IT...  $200   \n",
      "3         4680  2004-12-31  Jeopardy!                 THE COMPANY LINE  $200   \n",
      "4         4680  2004-12-31  Jeopardy!              EPITAPHS & TRIBUTES  $200   \n",
      "\n",
      "                                                                                                      Question  \\\n",
      "0             For the last 8 years of his life, Galileo was under house arrest for espousing this man's theory   \n",
      "1  No. 2: 1912 Olympian; football star at Carlisle Indian School; 6 MLB seasons with the Reds, Giants & Braves   \n",
      "2                     The city of Yuma in this state has a record average of 4,055 hours of sunshine each year   \n",
      "3                         In 1963, live on \"The Art Linkletter Show\", this company served its billionth burger   \n",
      "4     Signer of the Dec. of Indep., framer of the Constitution of Mass., second President of the United States   \n",
      "\n",
      "       Answer  float_val   Date_tmp  \n",
      "0  Copernicus      200.0 2004-12-31  \n",
      "1  Jim Thorpe      200.0 2004-12-31  \n",
      "2     Arizona      200.0 2004-12-31  \n",
      "3  McDonald's      200.0 2004-12-31  \n",
      "4  John Adams      200.0 2004-12-31  \n"
     ]
    }
   ],
   "source": [
    "import pandas as pd\n",
    "import re\n",
    "import datetime\n",
    "\n",
    "pd.set_option('display.max_colwidth', None)\n",
    "data = pd.read_csv('jeopardy.csv')\n",
    "data = data.rename(columns = {' Air Date': 'Air Date', ' Round': 'Round', ' Category': 'Category', ' Value':'Value', ' Question': 'Question', ' Answer':'Answer'})\n",
    "data['float_val'] = data.Value.apply(lambda x: None if x.replace(\"$\", \"\").replace(\",\", \"\") == 'None' else float(x.replace(\"$\", \"\").replace(\",\", \"\")))\n",
    "# data['Date_tmp'] = datetime.datetime.strptime(data['Air Date'], '%Y-%m-%d')\n",
    "data['Date_tmp'] = data['Air Date'].apply(lambda x: datetime.datetime.strptime(x, '%Y-%m-%d'))\n",
    "print(type(data['Air Date'][1]))\n",
    "print(type(data['Date_tmp'][1]))\n",
    "data.describe()\n",
    "print(data.head())\n"
   ]
  },
  {
   "cell_type": "code",
   "execution_count": 102,
   "id": "2e7c8ed8",
   "metadata": {},
   "outputs": [
    {
     "name": "stdout",
     "output_type": "stream",
     "text": [
      "817.6001483679526\n",
      "       Show Number    float_val\n",
      "count  2744.000000  2696.000000\n",
      "mean   4152.577259   817.600148\n",
      "std    1412.658238   636.201440\n",
      "min       3.000000   100.000000\n",
      "25%    3220.750000   400.000000\n",
      "50%    4313.500000   600.000000\n",
      "75%    5314.250000  1000.000000\n",
      "max    6296.000000  9000.000000\n"
     ]
    }
   ],
   "source": [
    "def word_in_question(data, word_list):\n",
    "#     word_filter = lambda x: all(word.lower() in x.lower() for word in word_list)\n",
    "#     word_filter = lambda x: all(re.search(\"\\\\b\"+word.lower()+\"('|\\\\b)\", x.lower()) for word in word_list)\n",
    "    word_filter = lambda x: all(re.search(\"\\\\b\"+word.lower()+\"\\\\b\", x.lower()) for word in word_list)\n",
    "    return data.loc[data.Question.apply(word_filter)]\n",
    "\n",
    "test_result = word_in_question(data, ['King', 'England'])\n",
    "test_result_king = word_in_question(data, ['King'])\n",
    "print(test_result_king.float_val.mean())\n",
    "print(test_result_king.describe())"
   ]
  },
  {
   "cell_type": "code",
   "execution_count": 103,
   "id": "1fbdfb28",
   "metadata": {},
   "outputs": [
    {
     "data": {
      "text/plain": [
       "Answer\n",
       "Henry VIII     54\n",
       "Louis XIV      31\n",
       "Solomon        31\n",
       "David          29\n",
       "Richard III    24\n",
       "Name: Value, dtype: int64"
      ]
     },
     "execution_count": 103,
     "metadata": {},
     "output_type": "execute_result"
    }
   ],
   "source": [
    "test_result_king.groupby('Answer').Value.count().nlargest(5)"
   ]
  },
  {
   "cell_type": "code",
   "execution_count": 112,
   "id": "b42f7a2c",
   "metadata": {},
   "outputs": [
    {
     "data": {
      "text/html": [
       "<div>\n",
       "<style scoped>\n",
       "    .dataframe tbody tr th:only-of-type {\n",
       "        vertical-align: middle;\n",
       "    }\n",
       "\n",
       "    .dataframe tbody tr th {\n",
       "        vertical-align: top;\n",
       "    }\n",
       "\n",
       "    .dataframe thead th {\n",
       "        text-align: right;\n",
       "    }\n",
       "</style>\n",
       "<table border=\"1\" class=\"dataframe\">\n",
       "  <thead>\n",
       "    <tr style=\"text-align: right;\">\n",
       "      <th></th>\n",
       "      <th>Date_tmp</th>\n",
       "      <th>Answer</th>\n",
       "    </tr>\n",
       "  </thead>\n",
       "  <tbody>\n",
       "    <tr>\n",
       "      <th>0</th>\n",
       "      <td>00s</td>\n",
       "      <td>278</td>\n",
       "    </tr>\n",
       "    <tr>\n",
       "      <th>1</th>\n",
       "      <td>80s - 90s</td>\n",
       "      <td>84</td>\n",
       "    </tr>\n",
       "  </tbody>\n",
       "</table>\n",
       "</div>"
      ],
      "text/plain": [
       "    Date_tmp  Answer\n",
       "0        00s     278\n",
       "1  80s - 90s      84"
      ]
     },
     "execution_count": 112,
     "metadata": {},
     "output_type": "execute_result"
    }
   ],
   "source": [
    "computer_question = word_in_question(data, ['computer'])\n",
    "year = computer_question['Date_tmp'].apply(lambda x: x.year)\n",
    "decade = computer_question['Date_tmp'].apply(lambda x: \"80s - 90s\" if x.year < 2000 else '00s')\n",
    "computer_question.groupby(decade).Answer.count().reset_index()\n"
   ]
  },
  {
   "cell_type": "code",
   "execution_count": 114,
   "id": "12246042",
   "metadata": {},
   "outputs": [
    {
     "data": {
      "text/html": [
       "<div>\n",
       "<style scoped>\n",
       "    .dataframe tbody tr th:only-of-type {\n",
       "        vertical-align: middle;\n",
       "    }\n",
       "\n",
       "    .dataframe tbody tr th {\n",
       "        vertical-align: top;\n",
       "    }\n",
       "\n",
       "    .dataframe thead th {\n",
       "        text-align: right;\n",
       "    }\n",
       "</style>\n",
       "<table border=\"1\" class=\"dataframe\">\n",
       "  <thead>\n",
       "    <tr style=\"text-align: right;\">\n",
       "      <th></th>\n",
       "      <th>Round</th>\n",
       "      <th>Category</th>\n",
       "      <th>Question</th>\n",
       "    </tr>\n",
       "  </thead>\n",
       "  <tbody>\n",
       "    <tr>\n",
       "      <th>0</th>\n",
       "      <td>Double Jeopardy!</td>\n",
       "      <td>\"-ARES\"</td>\n",
       "      <td>5</td>\n",
       "    </tr>\n",
       "    <tr>\n",
       "      <th>1</th>\n",
       "      <td>Double Jeopardy!</td>\n",
       "      <td>\"...OD\" WORDS</td>\n",
       "      <td>5</td>\n",
       "    </tr>\n",
       "    <tr>\n",
       "      <th>2</th>\n",
       "      <td>Double Jeopardy!</td>\n",
       "      <td>\"1\", \"2\", \"3\"</td>\n",
       "      <td>5</td>\n",
       "    </tr>\n",
       "    <tr>\n",
       "      <th>3</th>\n",
       "      <td>Double Jeopardy!</td>\n",
       "      <td>\"20\" QUESTIONS</td>\n",
       "      <td>5</td>\n",
       "    </tr>\n",
       "    <tr>\n",
       "      <th>4</th>\n",
       "      <td>Double Jeopardy!</td>\n",
       "      <td>\"A\" + 4</td>\n",
       "      <td>5</td>\n",
       "    </tr>\n",
       "    <tr>\n",
       "      <th>...</th>\n",
       "      <td>...</td>\n",
       "      <td>...</td>\n",
       "      <td>...</td>\n",
       "    </tr>\n",
       "    <tr>\n",
       "      <th>31681</th>\n",
       "      <td>Jeopardy!</td>\n",
       "      <td>“NORTH”</td>\n",
       "      <td>5</td>\n",
       "    </tr>\n",
       "    <tr>\n",
       "      <th>31682</th>\n",
       "      <td>Jeopardy!</td>\n",
       "      <td>“STREETS”</td>\n",
       "      <td>5</td>\n",
       "    </tr>\n",
       "    <tr>\n",
       "      <th>31683</th>\n",
       "      <td>Tiebreaker</td>\n",
       "      <td>CHILD'S PLAY</td>\n",
       "      <td>1</td>\n",
       "    </tr>\n",
       "    <tr>\n",
       "      <th>31684</th>\n",
       "      <td>Tiebreaker</td>\n",
       "      <td>LITERARY CHARACTERS</td>\n",
       "      <td>1</td>\n",
       "    </tr>\n",
       "    <tr>\n",
       "      <th>31685</th>\n",
       "      <td>Tiebreaker</td>\n",
       "      <td>THE AMERICAN REVOLUTION</td>\n",
       "      <td>1</td>\n",
       "    </tr>\n",
       "  </tbody>\n",
       "</table>\n",
       "<p>31686 rows × 3 columns</p>\n",
       "</div>"
      ],
      "text/plain": [
       "                  Round                 Category  Question\n",
       "0      Double Jeopardy!                  \"-ARES\"         5\n",
       "1      Double Jeopardy!            \"...OD\" WORDS         5\n",
       "2      Double Jeopardy!            \"1\", \"2\", \"3\"         5\n",
       "3      Double Jeopardy!           \"20\" QUESTIONS         5\n",
       "4      Double Jeopardy!                  \"A\" + 4         5\n",
       "...                 ...                      ...       ...\n",
       "31681         Jeopardy!                  “NORTH”         5\n",
       "31682         Jeopardy!                “STREETS”         5\n",
       "31683        Tiebreaker             CHILD'S PLAY         1\n",
       "31684        Tiebreaker      LITERARY CHARACTERS         1\n",
       "31685        Tiebreaker  THE AMERICAN REVOLUTION         1\n",
       "\n",
       "[31686 rows x 3 columns]"
      ]
     },
     "execution_count": 114,
     "metadata": {},
     "output_type": "execute_result"
    }
   ],
   "source": [
    "data.groupby(['Round', 'Category']).Question.count().reset_index()"
   ]
  },
  {
   "cell_type": "code",
   "execution_count": 119,
   "id": "577dcf7d",
   "metadata": {},
   "outputs": [
    {
     "data": {
      "text/plain": [
       "27995"
      ]
     },
     "execution_count": 119,
     "metadata": {},
     "output_type": "execute_result"
    }
   ],
   "source": [
    "data.Category.nunique()"
   ]
  }
 ],
 "metadata": {
  "kernelspec": {
   "display_name": "Python 3",
   "language": "python",
   "name": "python3"
  },
  "language_info": {
   "codemirror_mode": {
    "name": "ipython",
    "version": 3
   },
   "file_extension": ".py",
   "mimetype": "text/x-python",
   "name": "python",
   "nbconvert_exporter": "python",
   "pygments_lexer": "ipython3",
   "version": "3.8.8"
  }
 },
 "nbformat": 4,
 "nbformat_minor": 5
}
